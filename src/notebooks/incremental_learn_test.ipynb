{
 "cells": [
  {
   "cell_type": "code",
   "id": "initial_id",
   "metadata": {
    "collapsed": true,
    "ExecuteTime": {
     "end_time": "2025-04-13T19:07:28.827164Z",
     "start_time": "2025-04-13T19:07:28.803430Z"
    }
   },
   "source": [
    "# Import necessary libraries\n",
    "import sys\n",
    "from pathlib import Path\n",
    "\n",
    "import matplotlib.pyplot as plt\n",
    "import numpy as np\n",
    "import pandas as pd\n",
    "import seaborn as sns\n",
    "\n",
    "# Configure imports\n",
    "sys.path.append(str(Path('..').resolve().parent))\n",
    "from src.config import FUNK_SVD_MODEL_DIR\n",
    "from src.recommender import GameRecommender\n",
    "from src.utils.utils import get_train_data, get_test_data\n"
   ],
   "outputs": [],
   "execution_count": 1
  },
  {
   "metadata": {
    "ExecuteTime": {
     "end_time": "2025-04-13T19:07:30.364821Z",
     "start_time": "2025-04-13T19:07:28.833326Z"
    }
   },
   "cell_type": "code",
   "source": [
    "# Load data and initialize recommender\n",
    "train_data = get_train_data()\n",
    "test_data = get_test_data()\n",
    "model_path = FUNK_SVD_MODEL_DIR / 'model' / 'final'\n",
    "recommender = GameRecommender(model_path, train_data)\n",
    "recommender.load_games_data()\n"
   ],
   "id": "2ec9bd301343e959",
   "outputs": [
    {
     "name": "stderr",
     "output_type": "stream",
     "text": [
      "\u001B[32m2025-04-13 22:07:28.936\u001B[0m | \u001B[1mINFO    \u001B[0m | \u001B[36msrc.utils.persistence\u001B[0m:\u001B[36mload_model\u001B[0m:\u001B[36m42\u001B[0m - \u001B[1mLoading model from C:\\Ukma\\coursework\\funk-svd\\models\\funk_svd\\model\\final\u001B[0m\n"
     ]
    },
    {
     "data": {
      "text/plain": [
       "<src.recommender.GameRecommender at 0x2ed0d9ba510>"
      ]
     },
     "execution_count": 2,
     "metadata": {},
     "output_type": "execute_result"
    }
   ],
   "execution_count": 2
  },
  {
   "metadata": {
    "ExecuteTime": {
     "end_time": "2025-04-13T19:07:30.535135Z",
     "start_time": "2025-04-13T19:07:30.488274Z"
    }
   },
   "cell_type": "code",
   "source": [
    "# Test case 1: Add a new user with some sample ratings\n",
    "new_user_ratings = [\n",
    "    {'BggId': 174430, 'Rating': 8.5},  # Gloomhaven\n",
    "    {'BggId': 167791, 'Rating': 7.0},  # Terraforming Mars\n",
    "    {'BggId': 233078, 'Rating': 9.0},  # Wingspan\n",
    "    {'BggId': 169786, 'Rating': 6.5},  # Scythe\n",
    "]\n",
    "\n",
    "# Add the new user and get their ID\n",
    "success, new_user_id, is_new_user = recommender.add_user_ratings(new_user_ratings)\n",
    "print(f\"Added new user with ID: {new_user_id} (New user: {is_new_user})\")\n",
    "\n",
    "# Get recommendations for the new user\n",
    "attributes = ['Name', 'YearPublished', 'AvgRating']\n",
    "recommendations = recommender.get_recommendations(\n",
    "    user_id=new_user_id,\n",
    "    n=10,\n",
    "    attributes=attributes\n",
    ")\n",
    "\n",
    "# Display recommendations\n",
    "print(\"\\nRecommendations for new user:\")\n",
    "for i, rec in enumerate(recommendations, 1):\n",
    "    print(f\"{i}. {rec['Name']} ({rec['YearPublished']}) - Predicted Rating: {rec['PredictedRating']:.2f} (BGG Avg: {rec['AvgRating']:.2f})\")\n"
   ],
   "id": "72c13d27f7c12332",
   "outputs": [
    {
     "name": "stderr",
     "output_type": "stream",
     "text": [
      "\u001B[32m2025-04-13 22:07:30.491\u001B[0m | \u001B[1mINFO    \u001B[0m | \u001B[36msrc.funk_svd\u001B[0m:\u001B[36madd_ratings\u001B[0m:\u001B[36m280\u001B[0m - \u001B[1mGenerated new user ID: 320498\u001B[0m\n",
      "\u001B[32m2025-04-13 22:07:30.493\u001B[0m | \u001B[1mINFO    \u001B[0m | \u001B[36msrc.funk_svd\u001B[0m:\u001B[36madd_ratings\u001B[0m:\u001B[36m291\u001B[0m - \u001B[1mAdded new user 320498 with 4 ratings\u001B[0m\n",
      "\u001B[32m2025-04-13 22:07:30.495\u001B[0m | \u001B[34m\u001B[1mDEBUG   \u001B[0m | \u001B[36msrc.funk_svd\u001B[0m:\u001B[36m_learn_user_factors\u001B[0m:\u001B[36m252\u001B[0m - \u001B[34m\u001B[1mFinished learning factors for user with final RMSE: 0.9872\u001B[0m\n"
     ]
    },
    {
     "name": "stdout",
     "output_type": "stream",
     "text": [
      "Added new user with ID: 320498 (New user: True)\n",
      "\n",
      "Recommendations for new user:\n",
      "1. Sleeping Gods (2021) - Predicted Rating: 8.82 (BGG Avg: 8.51)\n",
      "2. Eclipse: Second Dawn for the Galaxy (2020) - Predicted Rating: 8.72 (BGG Avg: 8.68)\n",
      "3. The Castles of Burgundy (2019) - Predicted Rating: 8.63 (BGG Avg: 8.49)\n",
      "4. Clank!: Legacy – Acquisitions Incorporated (2019) - Predicted Rating: 8.60 (BGG Avg: 8.70)\n",
      "5. Concordia Venus (2018) - Predicted Rating: 8.59 (BGG Avg: 8.35)\n",
      "6. The Crew: Mission Deep Sea (2021) - Predicted Rating: 8.57 (BGG Avg: 8.45)\n",
      "7. Gloomhaven: Jaws of the Lion (2020) - Predicted Rating: 8.54 (BGG Avg: 8.70)\n",
      "8. Pandemic Legacy: Season 0 (2020) - Predicted Rating: 8.45 (BGG Avg: 8.64)\n",
      "9. Ticket to Ride: 10th Anniversary (2014) - Predicted Rating: 8.41 (BGG Avg: 8.27)\n",
      "10. Aeon's End: War Eternal (2017) - Predicted Rating: 8.41 (BGG Avg: 8.39)\n"
     ]
    }
   ],
   "execution_count": 3
  },
  {
   "metadata": {
    "ExecuteTime": {
     "end_time": "2025-04-13T19:07:30.624824Z",
     "start_time": "2025-04-13T19:07:30.539879Z"
    }
   },
   "cell_type": "code",
   "source": [
    "# Test case 2: Add new ratings for an existing user\n",
    "# First, let's select an existing user ID from the dataset\n",
    "existing_user_id = train_data[0]['UserId']\n",
    "print(f\"Selected existing user ID: {existing_user_id}\")\n",
    "\n",
    "# Get current recommendations for this user\n",
    "print(\"\\nCurrent recommendations for existing user:\")\n",
    "existing_recommendations = recommender.get_recommendations(\n",
    "    user_id=existing_user_id,\n",
    "    n=5,\n",
    "    attributes=attributes\n",
    ")\n",
    "for i, rec in enumerate(existing_recommendations, 1):\n",
    "    print(f\"{i}. {rec['Name']} ({rec['YearPublished']}) - Predicted Rating: {rec['PredictedRating']:.2f}\")\n",
    "\n",
    "# Add new ratings for this existing user\n",
    "new_ratings_for_existing = [\n",
    "    {'BggId': 266192, 'Rating': 9.5},  # Wingspan\n",
    "    {'BggId': 224517, 'Rating': 8.0},  # Brass: Birmingham\n",
    "    {'BggId': 162886, 'Rating': 7.5},  # Spirit Island\n",
    "]\n",
    "\n",
    "# Update the user with new ratings\n",
    "success, user_id, is_new_user = recommender.add_user_ratings(new_ratings_for_existing, existing_user_id)\n",
    "print(f\"\\nAdded new ratings for existing user {user_id} (New user: {is_new_user})\")\n",
    "\n",
    "# Get updated recommendations for this user\n",
    "print(\"\\nUpdated recommendations for existing user:\")\n",
    "updated_recommendations = recommender.get_recommendations(\n",
    "    user_id=existing_user_id,\n",
    "    n=5,\n",
    "    attributes=attributes\n",
    ")\n",
    "for i, rec in enumerate(updated_recommendations, 1):\n",
    "    print(f\"{i}. {rec['Name']} ({rec['YearPublished']}) - Predicted Rating: {rec['PredictedRating']:.2f}\")\n"
   ],
   "id": "1459d3414690d755",
   "outputs": [
    {
     "name": "stderr",
     "output_type": "stream",
     "text": [
      "\u001B[32m2025-04-13 22:07:30.582\u001B[0m | \u001B[1mINFO    \u001B[0m | \u001B[36msrc.funk_svd\u001B[0m:\u001B[36madd_ratings\u001B[0m:\u001B[36m295\u001B[0m - \u001B[1mUpdating existing user 4 with 3 new ratings\u001B[0m\n",
      "\u001B[32m2025-04-13 22:07:30.584\u001B[0m | \u001B[34m\u001B[1mDEBUG   \u001B[0m | \u001B[36msrc.funk_svd\u001B[0m:\u001B[36m_learn_user_factors\u001B[0m:\u001B[36m252\u001B[0m - \u001B[34m\u001B[1mFinished learning factors for user with final RMSE: 0.9771\u001B[0m\n"
     ]
    },
    {
     "name": "stdout",
     "output_type": "stream",
     "text": [
      "Selected existing user ID: 4\n",
      "\n",
      "Current recommendations for existing user:\n",
      "1. Sleeping Gods (2021) - Predicted Rating: 9.23\n",
      "2. Eclipse: Second Dawn for the Galaxy (2020) - Predicted Rating: 9.13\n",
      "3. The Castles of Burgundy (2019) - Predicted Rating: 9.04\n",
      "4. Clank!: Legacy – Acquisitions Incorporated (2019) - Predicted Rating: 9.01\n",
      "5. Concordia Venus (2018) - Predicted Rating: 9.00\n",
      "\n",
      "Added new ratings for existing user 4 (New user: False)\n",
      "\n",
      "Updated recommendations for existing user:\n",
      "1. Sleeping Gods (2021) - Predicted Rating: 9.21\n",
      "2. Eclipse: Second Dawn for the Galaxy (2020) - Predicted Rating: 9.11\n",
      "3. The Castles of Burgundy (2019) - Predicted Rating: 9.02\n",
      "4. Clank!: Legacy – Acquisitions Incorporated (2019) - Predicted Rating: 8.99\n",
      "5. Concordia Venus (2018) - Predicted Rating: 8.98\n"
     ]
    }
   ],
   "execution_count": 4
  },
  {
   "metadata": {
    "ExecuteTime": {
     "end_time": "2025-04-13T19:07:30.730670Z",
     "start_time": "2025-04-13T19:07:30.637688Z"
    }
   },
   "cell_type": "code",
   "source": [
    "# Compare the before and after recommendations\n",
    "print(\"\\nComparison of recommendations before and after adding new ratings:\")\n",
    "print(\"Before:\")\n",
    "before_games = {rec['Name']: rec['PredictedRating'] for rec in existing_recommendations}\n",
    "for name, rating in before_games.items():\n",
    "    print(f\"- {name}: {rating:.2f}\")\n",
    "\n",
    "print(\"\\nAfter:\")\n",
    "after_games = {rec['Name']: rec['PredictedRating'] for rec in updated_recommendations}\n",
    "for name, rating in after_games.items():\n",
    "    print(f\"- {name}: {rating:.2f}\")\n",
    "\n",
    "# Get popular recommendations for comparison\n",
    "popular_games = recommender.get_popular_recommendations(train_data, n=5)\n",
    "print(\"\\nPopular recommendations:\")\n",
    "for i, (game_id, score) in enumerate(popular_games, 1):\n",
    "    game_info = recommender.games_data.get(int(game_id), {})\n",
    "    name = game_info.get('Name', f'Game {game_id}')\n",
    "    print(f\"{i}. {name} - Popularity Score: {score:.2f}\")\n"
   ],
   "id": "fd4902ff45b69abe",
   "outputs": [
    {
     "name": "stdout",
     "output_type": "stream",
     "text": [
      "\n",
      "Comparison of recommendations before and after adding new ratings:\n",
      "Before:\n",
      "- Sleeping Gods: 9.23\n",
      "- Eclipse: Second Dawn for the Galaxy: 9.13\n",
      "- The Castles of Burgundy: 9.04\n",
      "- Clank!: Legacy – Acquisitions Incorporated: 9.01\n",
      "- Concordia Venus: 9.00\n",
      "\n",
      "After:\n",
      "- Sleeping Gods: 9.21\n",
      "- Eclipse: Second Dawn for the Galaxy: 9.11\n",
      "- The Castles of Burgundy: 9.02\n",
      "- Clank!: Legacy – Acquisitions Incorporated: 8.99\n",
      "- Concordia Venus: 8.98\n",
      "\n",
      "Popular recommendations:\n",
      "1. Terraforming Mars - Popularity Score: 45.22\n",
      "2. The Castles of Burgundy - Popularity Score: 43.45\n",
      "3. Pandemic Legacy: Season 1 - Popularity Score: 43.09\n",
      "4. Scythe - Popularity Score: 42.69\n",
      "5. Agricola - Popularity Score: 42.09\n"
     ]
    }
   ],
   "execution_count": 5
  }
 ],
 "metadata": {
  "kernelspec": {
   "display_name": "Python 3",
   "language": "python",
   "name": "python3"
  },
  "language_info": {
   "codemirror_mode": {
    "name": "ipython",
    "version": 2
   },
   "file_extension": ".py",
   "mimetype": "text/x-python",
   "name": "python",
   "nbconvert_exporter": "python",
   "pygments_lexer": "ipython2",
   "version": "2.7.6"
  }
 },
 "nbformat": 4,
 "nbformat_minor": 5
}
