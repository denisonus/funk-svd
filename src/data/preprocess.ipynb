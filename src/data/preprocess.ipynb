{
 "cells": [
  {
   "cell_type": "code",
   "id": "initial_id",
   "metadata": {
    "collapsed": true,
    "ExecuteTime": {
     "end_time": "2025-04-10T15:55:51.150026Z",
     "start_time": "2025-04-10T15:55:51.147557Z"
    }
   },
   "source": [
    "# Import libraries\n",
    "import pandas as pd\n",
    "import numpy as np"
   ],
   "outputs": [],
   "execution_count": 25
  },
  {
   "metadata": {
    "ExecuteTime": {
     "end_time": "2025-04-10T15:55:59.633560Z",
     "start_time": "2025-04-10T15:55:51.199632Z"
    }
   },
   "cell_type": "code",
   "source": [
    "# Load data\n",
    "df = pd.read_csv(\"../../data/raw/user_ratings.csv\",\n",
    "                 dtype={\"BGGId\": \"int32\", \"Rating\": \"float32\", \"Username\": \"string\"})\n"
   ],
   "id": "64353ae61f0181e3",
   "outputs": [],
   "execution_count": 26
  },
  {
   "metadata": {
    "ExecuteTime": {
     "end_time": "2025-04-10T15:56:24.989806Z",
     "start_time": "2025-04-10T15:55:59.640851Z"
    }
   },
   "cell_type": "code",
   "source": [
    "# Data cleaning\n",
    "print(f\"Original rows: {len(df)}\")\n",
    "print(f\"Duplicated rows: {df.duplicated().sum()}\")\n",
    "print(f\"Duplicated user ratings: {df.duplicated(subset=['Username', 'BGGId'], keep=False).sum()}\")\n",
    "df = df.drop_duplicates(subset=['Username', 'BGGId'], keep='last')\n",
    "\n",
    "print(f\"Missing values:\\n{df.isnull().sum()}\")\n",
    "df = df.dropna(subset=['Username'])\n",
    "\n",
    "print(f\"Rating statistics:\\n{df['Rating'].describe()}\")\n",
    "print(f\"Ratings < 0.5: {(df['Rating'] < 0.5).sum()}\")\n",
    "df = df[df[\"Rating\"] >= 0.5]"
   ],
   "id": "d60141bdc50c4bbe",
   "outputs": [
    {
     "name": "stdout",
     "output_type": "stream",
     "text": [
      "Original rows: 18942215\n",
      "Duplicated rows: 0\n",
      "Duplicated user ratings: 64120\n",
      "Missing values:\n",
      "BGGId        0\n",
      "Rating       0\n",
      "Username    63\n",
      "dtype: int64\n",
      "Rating statistics:\n",
      "count    1.890946e+07\n",
      "mean     7.131226e+00\n",
      "std      1.543284e+00\n",
      "min      1.000000e-04\n",
      "25%      6.000000e+00\n",
      "50%      7.000000e+00\n",
      "75%      8.000000e+00\n",
      "max      1.000000e+01\n",
      "Name: Rating, dtype: float64\n",
      "Ratings < 0.5: 5\n"
     ]
    }
   ],
   "execution_count": 27
  },
  {
   "metadata": {
    "ExecuteTime": {
     "end_time": "2025-04-10T15:56:28.666496Z",
     "start_time": "2025-04-10T15:56:25.017548Z"
    }
   },
   "cell_type": "code",
   "source": [
    "# User ID mapping\n",
    "df[\"UserId\"] = pd.factorize(df[\"Username\"])[0].astype(np.int32)\n",
    "df = df.drop(columns=[\"Username\"])\n",
    "df"
   ],
   "id": "75f6627134615f49",
   "outputs": [
    {
     "data": {
      "text/plain": [
       "           BGGId  Rating  UserId\n",
       "0         213788     8.0       0\n",
       "1         213788     8.0       1\n",
       "2         213788     8.0       2\n",
       "3         213788     8.0       3\n",
       "4         213788     8.0       4\n",
       "...          ...     ...     ...\n",
       "18942210  165521     3.0     863\n",
       "18942211  165521     3.0   21539\n",
       "18942212  165521     3.0    5112\n",
       "18942213  193488     1.0   43419\n",
       "18942214  193488     1.0    4627\n",
       "\n",
       "[18909460 rows x 3 columns]"
      ],
      "text/html": [
       "<div>\n",
       "<style scoped>\n",
       "    .dataframe tbody tr th:only-of-type {\n",
       "        vertical-align: middle;\n",
       "    }\n",
       "\n",
       "    .dataframe tbody tr th {\n",
       "        vertical-align: top;\n",
       "    }\n",
       "\n",
       "    .dataframe thead th {\n",
       "        text-align: right;\n",
       "    }\n",
       "</style>\n",
       "<table border=\"1\" class=\"dataframe\">\n",
       "  <thead>\n",
       "    <tr style=\"text-align: right;\">\n",
       "      <th></th>\n",
       "      <th>BGGId</th>\n",
       "      <th>Rating</th>\n",
       "      <th>UserId</th>\n",
       "    </tr>\n",
       "  </thead>\n",
       "  <tbody>\n",
       "    <tr>\n",
       "      <th>0</th>\n",
       "      <td>213788</td>\n",
       "      <td>8.0</td>\n",
       "      <td>0</td>\n",
       "    </tr>\n",
       "    <tr>\n",
       "      <th>1</th>\n",
       "      <td>213788</td>\n",
       "      <td>8.0</td>\n",
       "      <td>1</td>\n",
       "    </tr>\n",
       "    <tr>\n",
       "      <th>2</th>\n",
       "      <td>213788</td>\n",
       "      <td>8.0</td>\n",
       "      <td>2</td>\n",
       "    </tr>\n",
       "    <tr>\n",
       "      <th>3</th>\n",
       "      <td>213788</td>\n",
       "      <td>8.0</td>\n",
       "      <td>3</td>\n",
       "    </tr>\n",
       "    <tr>\n",
       "      <th>4</th>\n",
       "      <td>213788</td>\n",
       "      <td>8.0</td>\n",
       "      <td>4</td>\n",
       "    </tr>\n",
       "    <tr>\n",
       "      <th>...</th>\n",
       "      <td>...</td>\n",
       "      <td>...</td>\n",
       "      <td>...</td>\n",
       "    </tr>\n",
       "    <tr>\n",
       "      <th>18942210</th>\n",
       "      <td>165521</td>\n",
       "      <td>3.0</td>\n",
       "      <td>863</td>\n",
       "    </tr>\n",
       "    <tr>\n",
       "      <th>18942211</th>\n",
       "      <td>165521</td>\n",
       "      <td>3.0</td>\n",
       "      <td>21539</td>\n",
       "    </tr>\n",
       "    <tr>\n",
       "      <th>18942212</th>\n",
       "      <td>165521</td>\n",
       "      <td>3.0</td>\n",
       "      <td>5112</td>\n",
       "    </tr>\n",
       "    <tr>\n",
       "      <th>18942213</th>\n",
       "      <td>193488</td>\n",
       "      <td>1.0</td>\n",
       "      <td>43419</td>\n",
       "    </tr>\n",
       "    <tr>\n",
       "      <th>18942214</th>\n",
       "      <td>193488</td>\n",
       "      <td>1.0</td>\n",
       "      <td>4627</td>\n",
       "    </tr>\n",
       "  </tbody>\n",
       "</table>\n",
       "<p>18909460 rows × 3 columns</p>\n",
       "</div>"
      ]
     },
     "execution_count": 28,
     "metadata": {},
     "output_type": "execute_result"
    }
   ],
   "execution_count": 28
  },
  {
   "metadata": {
    "ExecuteTime": {
     "end_time": "2025-04-10T15:56:28.907324Z",
     "start_time": "2025-04-10T15:56:28.715614Z"
    }
   },
   "cell_type": "code",
   "source": [
    "# Calculate original metrics and target values\n",
    "original_users = df['UserId'].nunique()\n",
    "original_items = df['BGGId'].nunique()\n",
    "original_ratings = len(df)\n",
    "original_matrix_size = original_users * original_items\n",
    "original_sparsity = 1 - (original_ratings / original_matrix_size)\n",
    "\n",
    "print(f\"Original metrics:\")\n",
    "print(f\"Users: {original_users} | Items: {original_items} | Ratings: {original_ratings}\")\n",
    "print(f\"Matrix sparsity: {original_sparsity:.4f} ({original_sparsity*100:.2f}%)\")"
   ],
   "id": "d2edf7a3d3668a8b",
   "outputs": [
    {
     "name": "stdout",
     "output_type": "stream",
     "text": [
      "Original metrics:\n",
      "Users: 411374 | Items: 21925 | Ratings: 18909460\n",
      "Matrix sparsity: 0.9979 (99.79%)\n"
     ]
    }
   ],
   "execution_count": 29
  },
  {
   "metadata": {
    "ExecuteTime": {
     "end_time": "2025-04-10T15:56:28.932861Z",
     "start_time": "2025-04-10T15:56:28.929437Z"
    }
   },
   "cell_type": "code",
   "source": [
    "# Filter to 500K ratings\n",
    "target_ratings = 500000\n",
    "target_matrix_size = target_ratings / (1 - original_sparsity)\n",
    "scaling_factor = (target_matrix_size / original_matrix_size) ** 0.5\n",
    "target_users = int(original_users * scaling_factor)\n",
    "target_items = int(original_items * scaling_factor)\n",
    "\n",
    "print(f\"Scaling factor: {scaling_factor}\")\n",
    "print(f\"Target users: {target_users} | Target items: {target_items}\")"
   ],
   "id": "76638021d8fe0968",
   "outputs": [
    {
     "name": "stdout",
     "output_type": "stream",
     "text": [
      "Scaling factor: 0.16260932190030436\n",
      "Target users: 66893 | Target items: 3565\n"
     ]
    }
   ],
   "execution_count": 30
  },
  {
   "metadata": {
    "ExecuteTime": {
     "end_time": "2025-04-10T15:56:29.672225Z",
     "start_time": "2025-04-10T15:56:28.947749Z"
    }
   },
   "cell_type": "code",
   "source": [
    "# Filter most active users and most rated items\n",
    "most_active_users = set(df['UserId'].value_counts().nlargest(target_users).index)\n",
    "most_rated_items = set(df['BGGId'].value_counts().nlargest(target_items).index)\n",
    "df_500K = df[df['UserId'].isin(most_active_users) & df['BGGId'].isin(most_rated_items)]"
   ],
   "id": "1ee044dd0c0ff80",
   "outputs": [],
   "execution_count": 31
  },
  {
   "metadata": {
    "ExecuteTime": {
     "end_time": "2025-04-10T15:56:30.153034Z",
     "start_time": "2025-04-10T15:56:29.697451Z"
    }
   },
   "cell_type": "code",
   "source": [
    "# Sample if we have more ratings than needed\n",
    "if len(df_500K) > target_ratings:\n",
    "    df_500K = df_500K.sample(n=target_ratings, random_state=42)"
   ],
   "id": "d7174b9e7251d669",
   "outputs": [],
   "execution_count": 32
  },
  {
   "metadata": {
    "ExecuteTime": {
     "end_time": "2025-04-10T15:56:30.190634Z",
     "start_time": "2025-04-10T15:56:30.179885Z"
    }
   },
   "cell_type": "code",
   "source": [
    "# Calculate final metrics\n",
    "new_users = df_500K['UserId'].nunique()\n",
    "new_items = df_500K['BGGId'].nunique()\n",
    "new_ratings = len(df_500K)\n",
    "new_sparsity = 1 - (new_ratings / (new_users * new_items))\n",
    "\n",
    "print(f\"Final metrics:\")\n",
    "print(f\"Users: {new_users} | Items: {new_items} | Ratings: {new_ratings}\")\n",
    "print(f\"Matrix sparsity: {new_sparsity:.4f} ({new_sparsity*100:.2f}%)\")"
   ],
   "id": "8bd4a81cb9f0b5a",
   "outputs": [
    {
     "name": "stdout",
     "output_type": "stream",
     "text": [
      "Final metrics:\n",
      "Users: 65790 | Items: 3565 | Ratings: 500000\n",
      "Matrix sparsity: 0.9979 (99.79%)\n"
     ]
    }
   ],
   "execution_count": 33
  },
  {
   "metadata": {
    "ExecuteTime": {
     "end_time": "2025-04-10T15:58:50.165380Z",
     "start_time": "2025-04-10T15:58:49.185619Z"
    }
   },
   "cell_type": "code",
   "source": [
    "# Split data into train and test sets\n",
    "np.random.seed(42)  # For reproducibility\n",
    "train_ratio = 0.8\n",
    "\n",
    "# Group by UserId\n",
    "user_groups = df_500K.groupby('UserId')\n",
    "train_indices = []\n",
    "test_indices = []\n",
    "\n",
    "# For each user, put some ratings in train and some in test\n",
    "for user_id, user_df in user_groups:\n",
    "    indices = user_df.index.tolist()\n",
    "\n",
    "    # If user has only one rating, put it in training\n",
    "    if len(indices) == 1:\n",
    "        train_indices.extend(indices)\n",
    "        continue\n",
    "\n",
    "    # Shuffle the user's ratings\n",
    "    np.random.shuffle(indices)\n",
    "\n",
    "    # Split point for this user\n",
    "    user_split = max(1, int(train_ratio * len(indices)))\n",
    "\n",
    "    # Add to train and test sets\n",
    "    train_indices.extend(indices[:user_split])\n",
    "    test_indices.extend(indices[user_split:])\n",
    "\n",
    "train_df = df_500K.loc[train_indices]\n",
    "test_df = df_500K.loc[test_indices]\n",
    "\n",
    "print(f\"Training set: {len(train_df)} samples ({len(train_df)/len(df_500K)*100:.1f}%)\")\n",
    "print(f\"Test set: {len(test_df)} samples ({len(test_df)/len(df_500K)*100:.1f}%)\")"
   ],
   "id": "b67b6c275543de01",
   "outputs": [
    {
     "name": "stdout",
     "output_type": "stream",
     "text": [
      "Training set: 376406 samples (75.3%)\n",
      "Test set: 123594 samples (24.7%)\n"
     ]
    }
   ],
   "execution_count": 35
  },
  {
   "metadata": {
    "ExecuteTime": {
     "end_time": "2025-04-10T15:59:13.097095Z",
     "start_time": "2025-04-10T15:58:56.840868Z"
    }
   },
   "cell_type": "code",
   "source": [
    "# Save datasets\n",
    "train_df.to_csv(\"../../data/processed/user_ratings_train_500K.csv\", index=False)\n",
    "test_df.to_csv(\"../../data/processed/user_ratings_test_500K.csv\", index=False)\n",
    "df.to_csv(\"../../data/processed/user_ratings_cleaned.csv\", index=False)\n",
    "print(\"Datasets saved successfully\")"
   ],
   "id": "c1953d95f2ed9eed",
   "outputs": [
    {
     "name": "stdout",
     "output_type": "stream",
     "text": [
      "Datasets saved successfully\n"
     ]
    }
   ],
   "execution_count": 37
  }
 ],
 "metadata": {
  "kernelspec": {
   "display_name": "Python 3",
   "language": "python",
   "name": "python3"
  },
  "language_info": {
   "codemirror_mode": {
    "name": "ipython",
    "version": 2
   },
   "file_extension": ".py",
   "mimetype": "text/x-python",
   "name": "python",
   "nbconvert_exporter": "python",
   "pygments_lexer": "ipython2",
   "version": "2.7.6"
  }
 },
 "nbformat": 4,
 "nbformat_minor": 5
}
